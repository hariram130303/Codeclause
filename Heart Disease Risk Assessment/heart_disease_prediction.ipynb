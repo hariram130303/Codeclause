{
 "cells": [
  {
   "cell_type": "markdown",
   "metadata": {},
   "source": [
    "## HEART DISEASE PREDICTION USING MACHINE LEARNING"
   ]
  },
  {
   "cell_type": "markdown",
   "metadata": {},
   "source": [
    "### 1. Introduction"
   ]
  },
  {
   "cell_type": "markdown",
   "metadata": {},
   "source": [
    "Heart disease, an umbrella term encompassing various conditions affecting the heart's function, remains a formidable global health challenge. From coronary artery disease to congenital heart defects, these ailments collectively contribute to a significant portion of worldwide morbidity and mortality.\n",
    "\n",
    "Despite advances in medical science, heart disease continues to claim countless lives each year, surpassing all other causes of death. The toll is especially pronounced in low- and middle-income countries, where access to preventive care and treatment may be limited.\n",
    "\n",
    "Through sophisticated algorithms, Machine Learning models can sift through this information to predict an individual's likelihood of developing coronary heart disease over a specific timeframe. In this notebook, I'll delve into various Machine Learning methodologies aimed at forecasting whether a patient faces a 10-year risk of developing coronary heart disease (CHD). This exploration will utilize the Framingham dataset.(http://biolincc.nhlbi.nih.gov/studies/framcohort/) that is publicly availabe on Kaggle"
   ]
  },
  {
   "cell_type": "markdown",
   "metadata": {},
   "source": [
    "#### Importing necessary libraries"
   ]
  },
  {
   "cell_type": "code",
   "execution_count": 1,
   "metadata": {},
   "outputs": [],
   "source": [
    "import numpy as np\n",
    "import pandas as pd\n",
    "import matplotlib.pyplot as plt\n",
    "from operator import add\n",
    "import seaborn as sns\n",
    "import pickle\n",
    "%matplotlib inline\n",
    "\n",
    "#use ***pip install*** for libraries that are not installed in your environment."
   ]
  },
  {
   "cell_type": "code",
   "execution_count": 2,
   "metadata": {},
   "outputs": [],
   "source": [
    "from sklearn.model_selection import train_test_split, RandomizedSearchCV\n",
    "from sklearn.preprocessing import StandardScaler\n",
    "from sklearn.neighbors import KNeighborsClassifier\n",
    "from sklearn.svm import SVC\n",
    "from sklearn.tree import DecisionTreeClassifier\n",
    "from sklearn.ensemble import RandomForestClassifier, GradientBoostingClassifier"
   ]
  },
  {
   "cell_type": "code",
   "execution_count": 3,
   "metadata": {},
   "outputs": [],
   "source": [
    "import warnings\n",
    "warnings.filterwarnings('ignore')"
   ]
  },
  {
   "cell_type": "markdown",
   "metadata": {},
   "source": [
    "### 2. Dataset"
   ]
  },
  {
   "cell_type": "markdown",
   "metadata": {},
   "source": [
    "#### Source:\n",
    "The dataset is publically available and it is from an ongoing cardiovascular study on residents of the town of Framingham, Massachusetts. The objective of the classification task is to anticipate whether a patient is at risk of developing coronary heart disease (CHD) within the next 10 years. The dataset furnishes comprehensive patient information, comprising more than 4,000 entries and encompassing 15 attributes. These attributes encompass various potential risk factors, spanning demographic, behavioral, and medical domains.\n",
    "\n",
    "#### Attributes:\n",
    "\n",
    "###### Demographic:\n",
    "    Sex: male or female(Nominal)\n",
    "    Age: Age of the patient;(Continuous - Although the recorded ages have been truncated to whole numbers, the concept of age is continuous)\n",
    "    \n",
    "###### Education: no further information provided\n",
    "\n",
    "###### Behavioral:\n",
    "\n",
    "    Current Smoker: whether or not the patient is a current smoker (Nominal)\n",
    "    Cigs Per Day: the number of cigarettes that the person smoked on average in one day.(can be considered continuous as one can have any number of cigarettes, even half a cigarette.)\n",
    "    \n",
    "###### Information on medical history:\n",
    "\n",
    "    BP Meds: whether or not the patient was on blood pressure medication (Nominal)\n",
    "    Prevalent Stroke: whether or not the patient had previously had a stroke (Nominal)\n",
    "    Prevalent Hyp: whether or not the patient was hypertensive (Nominal)\n",
    "    Diabetes: whether or not the patient had diabetes (Nominal)\n",
    "    \n",
    "###### Information on current medical condition:\n",
    "\n",
    "    Tot Chol: total cholesterol level (Continuous)\n",
    "    Sys BP: systolic blood pressure (Continuous)\n",
    "    Dia BP: diastolic blood pressure (Continuous)\n",
    "    BMI: Body Mass Index (Continuous)\n",
    "    Heart Rate: heart rate (Continuous - In medical research, variables such as heart rate though in fact discrete, yet are considered continuous because of large number of possible values.)\n",
    "    Glucose: glucose level (Continuous)\n",
    "    \n",
    "###### Target variable to predict:\n",
    "10 year risk of coronary heart disease (CHD) - (binary: “1”, means “Yes”, “0” means “No”)"
   ]
  },
  {
   "cell_type": "code",
   "execution_count": 4,
   "metadata": {
    "scrolled": true
   },
   "outputs": [
    {
     "data": {
      "text/html": [
       "<div>\n",
       "<style scoped>\n",
       "    .dataframe tbody tr th:only-of-type {\n",
       "        vertical-align: middle;\n",
       "    }\n",
       "\n",
       "    .dataframe tbody tr th {\n",
       "        vertical-align: top;\n",
       "    }\n",
       "\n",
       "    .dataframe thead th {\n",
       "        text-align: right;\n",
       "    }\n",
       "</style>\n",
       "<table border=\"1\" class=\"dataframe\">\n",
       "  <thead>\n",
       "    <tr style=\"text-align: right;\">\n",
       "      <th></th>\n",
       "      <th>male</th>\n",
       "      <th>age</th>\n",
       "      <th>education</th>\n",
       "      <th>currentSmoker</th>\n",
       "      <th>cigsPerDay</th>\n",
       "      <th>BPMeds</th>\n",
       "      <th>prevalentStroke</th>\n",
       "      <th>prevalentHyp</th>\n",
       "      <th>diabetes</th>\n",
       "      <th>totChol</th>\n",
       "      <th>sysBP</th>\n",
       "      <th>diaBP</th>\n",
       "      <th>BMI</th>\n",
       "      <th>heartRate</th>\n",
       "      <th>glucose</th>\n",
       "      <th>TenYearCHD</th>\n",
       "    </tr>\n",
       "  </thead>\n",
       "  <tbody>\n",
       "    <tr>\n",
       "      <th>0</th>\n",
       "      <td>1</td>\n",
       "      <td>39</td>\n",
       "      <td>4.0</td>\n",
       "      <td>0</td>\n",
       "      <td>0.0</td>\n",
       "      <td>0.0</td>\n",
       "      <td>0</td>\n",
       "      <td>0</td>\n",
       "      <td>0</td>\n",
       "      <td>195.0</td>\n",
       "      <td>106.0</td>\n",
       "      <td>70.0</td>\n",
       "      <td>26.97</td>\n",
       "      <td>80.0</td>\n",
       "      <td>77.0</td>\n",
       "      <td>0</td>\n",
       "    </tr>\n",
       "    <tr>\n",
       "      <th>1</th>\n",
       "      <td>0</td>\n",
       "      <td>46</td>\n",
       "      <td>2.0</td>\n",
       "      <td>0</td>\n",
       "      <td>0.0</td>\n",
       "      <td>0.0</td>\n",
       "      <td>0</td>\n",
       "      <td>0</td>\n",
       "      <td>0</td>\n",
       "      <td>250.0</td>\n",
       "      <td>121.0</td>\n",
       "      <td>81.0</td>\n",
       "      <td>28.73</td>\n",
       "      <td>95.0</td>\n",
       "      <td>76.0</td>\n",
       "      <td>0</td>\n",
       "    </tr>\n",
       "    <tr>\n",
       "      <th>2</th>\n",
       "      <td>1</td>\n",
       "      <td>48</td>\n",
       "      <td>1.0</td>\n",
       "      <td>1</td>\n",
       "      <td>20.0</td>\n",
       "      <td>0.0</td>\n",
       "      <td>0</td>\n",
       "      <td>0</td>\n",
       "      <td>0</td>\n",
       "      <td>245.0</td>\n",
       "      <td>127.5</td>\n",
       "      <td>80.0</td>\n",
       "      <td>25.34</td>\n",
       "      <td>75.0</td>\n",
       "      <td>70.0</td>\n",
       "      <td>0</td>\n",
       "    </tr>\n",
       "    <tr>\n",
       "      <th>3</th>\n",
       "      <td>0</td>\n",
       "      <td>61</td>\n",
       "      <td>3.0</td>\n",
       "      <td>1</td>\n",
       "      <td>30.0</td>\n",
       "      <td>0.0</td>\n",
       "      <td>0</td>\n",
       "      <td>1</td>\n",
       "      <td>0</td>\n",
       "      <td>225.0</td>\n",
       "      <td>150.0</td>\n",
       "      <td>95.0</td>\n",
       "      <td>28.58</td>\n",
       "      <td>65.0</td>\n",
       "      <td>103.0</td>\n",
       "      <td>1</td>\n",
       "    </tr>\n",
       "    <tr>\n",
       "      <th>4</th>\n",
       "      <td>0</td>\n",
       "      <td>46</td>\n",
       "      <td>3.0</td>\n",
       "      <td>1</td>\n",
       "      <td>23.0</td>\n",
       "      <td>0.0</td>\n",
       "      <td>0</td>\n",
       "      <td>0</td>\n",
       "      <td>0</td>\n",
       "      <td>285.0</td>\n",
       "      <td>130.0</td>\n",
       "      <td>84.0</td>\n",
       "      <td>23.10</td>\n",
       "      <td>85.0</td>\n",
       "      <td>85.0</td>\n",
       "      <td>0</td>\n",
       "    </tr>\n",
       "  </tbody>\n",
       "</table>\n",
       "</div>"
      ],
      "text/plain": [
       "   male  age  education  currentSmoker  cigsPerDay  BPMeds  prevalentStroke  \\\n",
       "0     1   39        4.0              0         0.0     0.0                0   \n",
       "1     0   46        2.0              0         0.0     0.0                0   \n",
       "2     1   48        1.0              1        20.0     0.0                0   \n",
       "3     0   61        3.0              1        30.0     0.0                0   \n",
       "4     0   46        3.0              1        23.0     0.0                0   \n",
       "\n",
       "   prevalentHyp  diabetes  totChol  sysBP  diaBP    BMI  heartRate  glucose  \\\n",
       "0             0         0    195.0  106.0   70.0  26.97       80.0     77.0   \n",
       "1             0         0    250.0  121.0   81.0  28.73       95.0     76.0   \n",
       "2             0         0    245.0  127.5   80.0  25.34       75.0     70.0   \n",
       "3             1         0    225.0  150.0   95.0  28.58       65.0    103.0   \n",
       "4             0         0    285.0  130.0   84.0  23.10       85.0     85.0   \n",
       "\n",
       "   TenYearCHD  \n",
       "0           0  \n",
       "1           0  \n",
       "2           0  \n",
       "3           1  \n",
       "4           0  "
      ]
     },
     "execution_count": 4,
     "metadata": {},
     "output_type": "execute_result"
    }
   ],
   "source": [
    "#load the data\n",
    "data = pd.read_csv('framingham.csv')\n",
    "data.head()"
   ]
  },
  {
   "cell_type": "markdown",
   "metadata": {},
   "source": [
    "Education has no correlation with CHD, so we drop it."
   ]
  },
  {
   "cell_type": "code",
   "execution_count": 5,
   "metadata": {},
   "outputs": [
    {
     "data": {
      "text/html": [
       "<div>\n",
       "<style scoped>\n",
       "    .dataframe tbody tr th:only-of-type {\n",
       "        vertical-align: middle;\n",
       "    }\n",
       "\n",
       "    .dataframe tbody tr th {\n",
       "        vertical-align: top;\n",
       "    }\n",
       "\n",
       "    .dataframe thead th {\n",
       "        text-align: right;\n",
       "    }\n",
       "</style>\n",
       "<table border=\"1\" class=\"dataframe\">\n",
       "  <thead>\n",
       "    <tr style=\"text-align: right;\">\n",
       "      <th></th>\n",
       "      <th>male</th>\n",
       "      <th>age</th>\n",
       "      <th>currentSmoker</th>\n",
       "      <th>cigsPerDay</th>\n",
       "      <th>BPMeds</th>\n",
       "      <th>prevalentStroke</th>\n",
       "      <th>prevalentHyp</th>\n",
       "      <th>diabetes</th>\n",
       "      <th>totChol</th>\n",
       "      <th>sysBP</th>\n",
       "      <th>diaBP</th>\n",
       "      <th>BMI</th>\n",
       "      <th>heartRate</th>\n",
       "      <th>glucose</th>\n",
       "      <th>TenYearCHD</th>\n",
       "    </tr>\n",
       "  </thead>\n",
       "  <tbody>\n",
       "    <tr>\n",
       "      <th>0</th>\n",
       "      <td>1</td>\n",
       "      <td>39</td>\n",
       "      <td>0</td>\n",
       "      <td>0.0</td>\n",
       "      <td>0.0</td>\n",
       "      <td>0</td>\n",
       "      <td>0</td>\n",
       "      <td>0</td>\n",
       "      <td>195.0</td>\n",
       "      <td>106.0</td>\n",
       "      <td>70.0</td>\n",
       "      <td>26.97</td>\n",
       "      <td>80.0</td>\n",
       "      <td>77.0</td>\n",
       "      <td>0</td>\n",
       "    </tr>\n",
       "    <tr>\n",
       "      <th>1</th>\n",
       "      <td>0</td>\n",
       "      <td>46</td>\n",
       "      <td>0</td>\n",
       "      <td>0.0</td>\n",
       "      <td>0.0</td>\n",
       "      <td>0</td>\n",
       "      <td>0</td>\n",
       "      <td>0</td>\n",
       "      <td>250.0</td>\n",
       "      <td>121.0</td>\n",
       "      <td>81.0</td>\n",
       "      <td>28.73</td>\n",
       "      <td>95.0</td>\n",
       "      <td>76.0</td>\n",
       "      <td>0</td>\n",
       "    </tr>\n",
       "    <tr>\n",
       "      <th>2</th>\n",
       "      <td>1</td>\n",
       "      <td>48</td>\n",
       "      <td>1</td>\n",
       "      <td>20.0</td>\n",
       "      <td>0.0</td>\n",
       "      <td>0</td>\n",
       "      <td>0</td>\n",
       "      <td>0</td>\n",
       "      <td>245.0</td>\n",
       "      <td>127.5</td>\n",
       "      <td>80.0</td>\n",
       "      <td>25.34</td>\n",
       "      <td>75.0</td>\n",
       "      <td>70.0</td>\n",
       "      <td>0</td>\n",
       "    </tr>\n",
       "    <tr>\n",
       "      <th>3</th>\n",
       "      <td>0</td>\n",
       "      <td>61</td>\n",
       "      <td>1</td>\n",
       "      <td>30.0</td>\n",
       "      <td>0.0</td>\n",
       "      <td>0</td>\n",
       "      <td>1</td>\n",
       "      <td>0</td>\n",
       "      <td>225.0</td>\n",
       "      <td>150.0</td>\n",
       "      <td>95.0</td>\n",
       "      <td>28.58</td>\n",
       "      <td>65.0</td>\n",
       "      <td>103.0</td>\n",
       "      <td>1</td>\n",
       "    </tr>\n",
       "    <tr>\n",
       "      <th>4</th>\n",
       "      <td>0</td>\n",
       "      <td>46</td>\n",
       "      <td>1</td>\n",
       "      <td>23.0</td>\n",
       "      <td>0.0</td>\n",
       "      <td>0</td>\n",
       "      <td>0</td>\n",
       "      <td>0</td>\n",
       "      <td>285.0</td>\n",
       "      <td>130.0</td>\n",
       "      <td>84.0</td>\n",
       "      <td>23.10</td>\n",
       "      <td>85.0</td>\n",
       "      <td>85.0</td>\n",
       "      <td>0</td>\n",
       "    </tr>\n",
       "  </tbody>\n",
       "</table>\n",
       "</div>"
      ],
      "text/plain": [
       "   male  age  currentSmoker  cigsPerDay  BPMeds  prevalentStroke  \\\n",
       "0     1   39              0         0.0     0.0                0   \n",
       "1     0   46              0         0.0     0.0                0   \n",
       "2     1   48              1        20.0     0.0                0   \n",
       "3     0   61              1        30.0     0.0                0   \n",
       "4     0   46              1        23.0     0.0                0   \n",
       "\n",
       "   prevalentHyp  diabetes  totChol  sysBP  diaBP    BMI  heartRate  glucose  \\\n",
       "0             0         0    195.0  106.0   70.0  26.97       80.0     77.0   \n",
       "1             0         0    250.0  121.0   81.0  28.73       95.0     76.0   \n",
       "2             0         0    245.0  127.5   80.0  25.34       75.0     70.0   \n",
       "3             1         0    225.0  150.0   95.0  28.58       65.0    103.0   \n",
       "4             0         0    285.0  130.0   84.0  23.10       85.0     85.0   \n",
       "\n",
       "   TenYearCHD  \n",
       "0           0  \n",
       "1           0  \n",
       "2           0  \n",
       "3           1  \n",
       "4           0  "
      ]
     },
     "execution_count": 5,
     "metadata": {},
     "output_type": "execute_result"
    }
   ],
   "source": [
    "# dropping the education column\n",
    "data.drop(['education'],axis=1,inplace=True)\n",
    "data.head()"
   ]
  },
  {
   "cell_type": "markdown",
   "metadata": {},
   "source": [
    "### 3. Exploratory Data Analysis"
   ]
  },
  {
   "cell_type": "markdown",
   "metadata": {},
   "source": [
    "#### 3.1 Data Size, shape and columns"
   ]
  },
  {
   "cell_type": "code",
   "execution_count": 6,
   "metadata": {},
   "outputs": [
    {
     "name": "stdout",
     "output_type": "stream",
     "text": [
      "The dataset has 4240 rows and 15 columns.\n"
     ]
    }
   ],
   "source": [
    "shape = data.shape\n",
    "print(f'The dataset has {shape[0]} rows and {shape[1]} columns.')"
   ]
  },
  {
   "cell_type": "code",
   "execution_count": 7,
   "metadata": {},
   "outputs": [
    {
     "name": "stdout",
     "output_type": "stream",
     "text": [
      "The columns are : male, age, currentSmoker, cigsPerDay, BPMeds, prevalentStroke, prevalentHyp, diabetes, totChol, sysBP, diaBP, BMI, heartRate, glucose, TenYearCHD\n"
     ]
    }
   ],
   "source": [
    "print(f'The columns are : { \", \".join(data.columns)}')"
   ]
  },
  {
   "cell_type": "markdown",
   "metadata": {},
   "source": [
    "#### 3.2 Missing variables"
   ]
  },
  {
   "cell_type": "code",
   "execution_count": 8,
   "metadata": {},
   "outputs": [
    {
     "data": {
      "text/plain": [
       "male                 0\n",
       "age                  0\n",
       "currentSmoker        0\n",
       "cigsPerDay          29\n",
       "BPMeds              53\n",
       "prevalentStroke      0\n",
       "prevalentHyp         0\n",
       "diabetes             0\n",
       "totChol             50\n",
       "sysBP                0\n",
       "diaBP                0\n",
       "BMI                 19\n",
       "heartRate            1\n",
       "glucose            388\n",
       "TenYearCHD           0\n",
       "dtype: int64"
      ]
     },
     "execution_count": 8,
     "metadata": {},
     "output_type": "execute_result"
    }
   ],
   "source": [
    "missing_data = data.isnull().sum()\n",
    "missing_data"
   ]
  },
  {
   "cell_type": "code",
   "execution_count": 9,
   "metadata": {},
   "outputs": [
    {
     "name": "stdout",
     "output_type": "stream",
     "text": [
      "The total percentage of missing data is 12.74%\n"
     ]
    }
   ],
   "source": [
    "#total percentage of missing data\n",
    "total_percentage = (missing_data.sum()/data.shape[0]) * 100\n",
    "print(f'The total percentage of missing data is {round(total_percentage,2)}%')"
   ]
  },
  {
   "cell_type": "code",
   "execution_count": 10,
   "metadata": {},
   "outputs": [
    {
     "data": {
      "text/html": [
       "<div>\n",
       "<style scoped>\n",
       "    .dataframe tbody tr th:only-of-type {\n",
       "        vertical-align: middle;\n",
       "    }\n",
       "\n",
       "    .dataframe tbody tr th {\n",
       "        vertical-align: top;\n",
       "    }\n",
       "\n",
       "    .dataframe thead th {\n",
       "        text-align: right;\n",
       "    }\n",
       "</style>\n",
       "<table border=\"1\" class=\"dataframe\">\n",
       "  <thead>\n",
       "    <tr style=\"text-align: right;\">\n",
       "      <th></th>\n",
       "      <th>Total</th>\n",
       "      <th>Percentage</th>\n",
       "    </tr>\n",
       "  </thead>\n",
       "  <tbody>\n",
       "    <tr>\n",
       "      <th>glucose</th>\n",
       "      <td>388</td>\n",
       "      <td>9.150943</td>\n",
       "    </tr>\n",
       "    <tr>\n",
       "      <th>BPMeds</th>\n",
       "      <td>53</td>\n",
       "      <td>1.250000</td>\n",
       "    </tr>\n",
       "    <tr>\n",
       "      <th>totChol</th>\n",
       "      <td>50</td>\n",
       "      <td>1.179245</td>\n",
       "    </tr>\n",
       "    <tr>\n",
       "      <th>cigsPerDay</th>\n",
       "      <td>29</td>\n",
       "      <td>0.683962</td>\n",
       "    </tr>\n",
       "    <tr>\n",
       "      <th>BMI</th>\n",
       "      <td>19</td>\n",
       "      <td>0.448113</td>\n",
       "    </tr>\n",
       "    <tr>\n",
       "      <th>heartRate</th>\n",
       "      <td>1</td>\n",
       "      <td>0.023585</td>\n",
       "    </tr>\n",
       "  </tbody>\n",
       "</table>\n",
       "</div>"
      ],
      "text/plain": [
       "            Total  Percentage\n",
       "glucose       388    9.150943\n",
       "BPMeds         53    1.250000\n",
       "totChol        50    1.179245\n",
       "cigsPerDay     29    0.683962\n",
       "BMI            19    0.448113\n",
       "heartRate       1    0.023585"
      ]
     },
     "execution_count": 10,
     "metadata": {},
     "output_type": "execute_result"
    }
   ],
   "source": [
    "# percentage of missing data per category\n",
    "total = data.isnull().sum().sort_values(ascending=False)\n",
    "percent_total = (data.isnull().sum()/data.isnull().count()).sort_values(ascending=False)*100\n",
    "missing = pd.concat([total, percent_total], axis=1, keys=[\"Total\", \"Percentage\"])\n",
    "missing_data = missing[missing['Total']>0]\n",
    "missing_data"
   ]
  },
  {
   "cell_type": "markdown",
   "metadata": {},
   "source": [
    "The blood glucose entry has the highest percentage of missing data i.e at 9.15% the rest have very few missing entries.\n",
    "\n",
    "Since missing entries account for only 12% of the total data we can drop these entries"
   ]
  },
  {
   "cell_type": "code",
   "execution_count": 11,
   "metadata": {},
   "outputs": [],
   "source": [
    "data.dropna(axis=0, inplace=True)"
   ]
  },
  {
   "cell_type": "code",
   "execution_count": 12,
   "metadata": {},
   "outputs": [
    {
     "data": {
      "text/plain": [
       "(3751, 15)"
      ]
     },
     "execution_count": 12,
     "metadata": {},
     "output_type": "execute_result"
    }
   ],
   "source": [
    "data.shape"
   ]
  },
  {
   "cell_type": "markdown",
   "metadata": {},
   "source": [
    "#### 3.3 Data analysis"
   ]
  },
  {
   "cell_type": "code",
   "execution_count": 13,
   "metadata": {},
   "outputs": [
    {
     "data": {
      "image/png": "[encoded data removed]",
      "text/plain": [
       "<Figure size 576x720 with 6 Axes>"
      ]
     },
     "metadata": {
      "needs_background": "light"
     },
     "output_type": "display_data"
    }
   ],
   "source": [
    "# Define function for stacked bar chart\n",
    "def stacked_barchart(data, title='', ylabel='', xlabel='', colors=None, ax=None):\n",
    "    ax = data.plot(kind='bar', stacked=True, color=colors, figsize=(8, 10), ax=ax)\n",
    "    ax.set_title(title)\n",
    "    ax.set_ylabel(ylabel)\n",
    "    ax.set_xlabel(xlabel)\n",
    "    ax.legend(title='CHD Outcome', bbox_to_anchor=(1.05, 1), loc='upper left')\n",
    "    ax.set_xticklabels(ax.get_xticklabels(), rotation=45)\n",
    "    plt.tight_layout()\n",
    "\n",
    "# Define color palette for better differentiation\n",
    "colors = ['#1f77b4', '#ff7f0e']\n",
    "fig, axes = plt.subplots(nrows=3, ncols=2, figsize=(24, 20))\n",
    "\n",
    "# Draw sex vs disease outcome\n",
    "temp = data[['male', 'TenYearCHD']].groupby(['male', 'TenYearCHD']).size().unstack('TenYearCHD')\n",
    "temp.rename(index={0: 'Female', 1: 'Male'}, columns={0: 'No Disease', 1: 'Has Disease'}, inplace=True)\n",
    "stacked_barchart(temp, title='CHD vs Sex', ylabel='Population', xlabel='Sex', colors=colors, ax=axes[0, 0])\n",
    "\n",
    "# Draw smoking status vs disease outcome\n",
    "temp = data[['currentSmoker', 'TenYearCHD']].groupby(['currentSmoker', 'TenYearCHD']).size().unstack('TenYearCHD')\n",
    "temp.rename(index={0: 'Not a Smoker', 1: 'Smoker'}, columns={0: 'No Disease', 1: 'Has Disease'}, inplace=True)\n",
    "stacked_barchart(temp, title='CHD vs Smoking', ylabel='Population', xlabel='Smoking Status', colors=colors, ax=axes[0, 1])\n",
    "\n",
    "# Draw diabetes vs disease outcome\n",
    "temp = data[['diabetes', 'TenYearCHD']].groupby(['diabetes', 'TenYearCHD']).size().unstack('TenYearCHD')\n",
    "temp.rename(index={0: 'Not Diabetic', 1: 'Diabetic'}, columns={0: 'No Disease', 1: 'Has Disease'}, inplace=True)\n",
    "stacked_barchart(temp, title='CHD vs Diabetes', ylabel='Population', xlabel='Diabetes Status', colors=colors, ax=axes[1, 0])\n",
    "\n",
    "# Draw BP meds vs disease outcome\n",
    "temp = data[['BPMeds', 'TenYearCHD']].groupby(['BPMeds', 'TenYearCHD']).size().unstack('TenYearCHD')\n",
    "temp.rename(index={0: 'Not on medication', 1: 'On Medication'}, columns={0: 'No Disease', 1: 'Has Disease'}, inplace=True)\n",
    "stacked_barchart(temp, title='CHD vs BP meds', ylabel='Population', xlabel='BP Medication Status', colors=colors, ax=axes[1, 1])\n",
    "\n",
    "# Draw Hypertension vs disease outcome\n",
    "temp = data[['prevalentHyp', 'TenYearCHD']].groupby(['prevalentHyp', 'TenYearCHD']).size().unstack('TenYearCHD')\n",
    "temp.rename(index={0: 'Not Hypertensive', 1: 'Hypertensive'}, columns={0: 'No Disease', 1: 'Has Disease'}, inplace=True)\n",
    "stacked_barchart(temp, title='CHD vs Hypertension', ylabel='Population', xlabel='Hypertension Status', colors=colors, ax=axes[2, 0])\n",
    "\n",
    "# Hide the last subplot\n",
    "axes[2, 1].axis('off')\n",
    "\n",
    "plt.subplots_adjust(hspace=0.8, wspace=1.5)  # Adjust spacing between subplots manually\n",
    "\n",
    "plt.show()"
   ]
  },
  {
   "cell_type": "markdown",
   "metadata": {},
   "source": [
    "Due to the imbalanced nature of the dataset it is difficult to make conclusions but based on what is observed\n",
    "\n",
    "    Slightly more males are suffering from CHD than females\n",
    "    The odds of developing CHD are higher in the hypertensive and diabetic patients and are almost similar between smokers and non smokers"
   ]
  },
  {
   "cell_type": "markdown",
   "metadata": {},
   "source": [
    "#### 3.5 Correlation"
   ]
  },
  {
   "cell_type": "code",
   "execution_count": 14,
   "metadata": {},
   "outputs": [
    {
     "data": {
      "image/png": "[encoded data removed]",
      "text/plain": [
       "<Figure size 576x432 with 1 Axes>"
      ]
     },
     "metadata": {
      "needs_background": "light"
     },
     "output_type": "display_data"
    }
   ],
   "source": [
    "# Calculate the correlation between each feature and TenYearCHD\n",
    "corr_with_target = data.drop('TenYearCHD', axis=1).apply(lambda x: x.corr(data['TenYearCHD']))\n",
    "\n",
    "# Plot the correlation coefficients\n",
    "plt.figure(figsize=(8, 6))\n",
    "sns.barplot(x=corr_with_target.values, y=corr_with_target.index, palette='viridis')\n",
    "plt.title('Correlation between Features and TenYearCHD')\n",
    "plt.xlabel('Correlation Coefficient')\n",
    "plt.ylabel('Features')\n",
    "plt.xlim(0,1)\n",
    "plt.show()"
   ]
  },
  {
   "cell_type": "markdown",
   "metadata": {},
   "source": [
    "There are no features with more than 0.5 correlation with the Ten year risk of developing CHD and this shows that the features a poor predictors."
   ]
  },
  {
   "cell_type": "code",
   "execution_count": 15,
   "metadata": {},
   "outputs": [
    {
     "data": {
      "image/png": "[encoded data removed]",
      "text/plain": [
       "<Figure size 864x720 with 2 Axes>"
      ]
     },
     "metadata": {
      "needs_background": "light"
     },
     "output_type": "display_data"
    }
   ],
   "source": [
    "# Calculate the correlation matrix\n",
    "corr_matrix = data.corr()\n",
    "# Create a mask to hide the upper triangle of the correlation matrix\n",
    "mask = np.triu(corr_matrix)\n",
    "\n",
    "# Plot the heatmap\n",
    "plt.figure(figsize=(12, 10))\n",
    "sns.heatmap(corr_matrix, annot=True, cmap='coolwarm',mask=mask, fmt=\".2f\")\n",
    "plt.title('Correlation between Features')\n",
    "plt.show()"
   ]
  },
  {
   "cell_type": "markdown",
   "metadata": {},
   "source": [
    "Also there are a couple of features that are highly correlated with one another and it makes no sense to use both of them in building a machine learning model. These incluse: Blood glucose and diabetes (obviously); systolic,diastolic blood pressures aand prevalent HTN; cigarette smoking and the number of cigarretes smoked per day. Therefore we need to carry out feature selection to pick the best fetaures"
   ]
  },
  {
   "cell_type": "markdown",
   "metadata": {},
   "source": [
    "### 4 Feature Selection"
   ]
  },
  {
   "cell_type": "markdown",
   "metadata": {},
   "source": [
    "Here we will use the Boruta algorithm  which is a wrapper built around the random forest classification algorithm. It tries to capture all the important, interesting features in a data set with respect to an outcome variable.\n",
    "\n",
    "##### Methodology:\n",
    "\n",
    "    Firstly, it adds randomness to the given data set by creating shuffled copies of all features (which are called shadow features).\n",
    "    \n",
    "    Then, it trains a random forest classifier on the extended data set and applies a feature importance measure (the default is Mean Decrease Accuracy) to evaluate the importance of each feature where higher means more important.\n",
    "    \n",
    "    At every iteration, it checks whether a real feature has a higher importance than the best of its shadow features (i.e. whether the feature has a higher Z-score than the maximum Z-score of its shadow features) and constantly removes features which are deemed highly unimportant.\n",
    "    \n",
    "    Finally, the algorithm stops either when all features get confirmed or rejected or it reaches a specified limit of random forest runs.\n",
    "    \n",
    "reference: http://danielhomola.com/2015/05/08/borutapy-an-all-relevant-feature-selection-method/"
   ]
  },
  {
   "cell_type": "code",
   "execution_count": 16,
   "metadata": {},
   "outputs": [],
   "source": [
    "from sklearn.ensemble import RandomForestClassifier"
   ]
  },
  {
   "cell_type": "code",
   "execution_count": 17,
   "metadata": {},
   "outputs": [
    {
     "name": "stdout",
     "output_type": "stream",
     "text": [
      "Selected Features using Tree-based Feature Importance: ['sysBP', 'BMI', 'totChol', 'age', 'glucose']\n"
     ]
    }
   ],
   "source": [
    "X = data.drop(['TenYearCHD'], axis=1)  # Features\n",
    "y = data['TenYearCHD']  # Target variable\n",
    "\n",
    "# 2. Tree-based Feature Importance\n",
    "forest = RandomForestClassifier(n_estimators=100, random_state=42)\n",
    "forest.fit(X, y)\n",
    "importances = forest.feature_importances_\n",
    "indices = np.argsort(importances)[::-1]\n",
    "selected_features_tree = X.columns[indices[:5]].tolist()  # Select top 5 features\n",
    "print(\"Selected Features using Tree-based Feature Importance:\", selected_features_tree)"
   ]
  },
  {
   "cell_type": "code",
   "execution_count": 18,
   "metadata": {},
   "outputs": [],
   "source": [
    "# # 1. Visualize the distributions of selected features\n",
    "# selected_features_tree_data = X[selected_features_tree]\n",
    "# selected_features_tree_data.hist(figsize=(10, 8))\n",
    "# plt.suptitle(\"Distributions of Selected Features using Tree-based Feature Importance\", y=0.95)\n",
    "# plt.tight_layout()\n",
    "# plt.show()\n",
    "\n",
    "# # 2. Correlation Analysis with target variable\n",
    "# correlation_tree = data[selected_features_tree + ['TenYearCHD']].corr()\n",
    "# plt.figure(figsize=(8, 6))\n",
    "# sns.heatmap(correlation_tree, annot=True, cmap='coolwarm', fmt=\".2f\", annot_kws={\"size\": 10})\n",
    "# plt.title(\"Correlation Matrix with TenYearCHD for Selected Features (Tree-based Feature Importance)\")\n",
    "# plt.show()"
   ]
  },
  {
   "cell_type": "markdown",
   "metadata": {},
   "source": [
    "The top features are:\n",
    "    1. Systolic blood pressure \n",
    "    2. BMI\n",
    "    3. Total cholesterol\n",
    "    4. Age\n",
    "    5. Blood glucose\n",
    "    6. Diastolic blood pressure\n",
    "    7. Heart rate"
   ]
  },
  {
   "cell_type": "markdown",
   "metadata": {},
   "source": [
    "### 5. Models and predictions"
   ]
  },
  {
   "cell_type": "markdown",
   "metadata": {},
   "source": [
    "Since the dataset is imbalanced i.e for every positive case there are about 6 negative cases. We may end up with a classifier that mostly predicts negative classes thus have a high accuracy but poor specificity or sensitivity. To adress this we will balance the dataset using The Synthetic Minority Oversampling Technique (SMOTE)."
   ]
  },
  {
   "cell_type": "markdown",
   "metadata": {},
   "source": [
    "##### 5.1 SMOTE"
   ]
  },
  {
   "cell_type": "markdown",
   "metadata": {},
   "source": [
    "SMOTE first selects a minority class instance a at random and finds its k nearest minority class neighbors. The synthetic instance is then created by choosing one of the k nearest neighbors b at random and connecting a and b to form a line segment in the feature space. The synthetic instances are generated as a convex combination of the two chosen instances a and b.\n",
    "\n",
    "— Page 47, Imbalanced Learning: Foundations, Algorithms, and Applications, 2013.\n",
    "\n",
    "This procedure can be used to create as many synthetic examples for the minority class as are required. It suggests first using random undersampling to trim the number of examples in the majority class, then use SMOTE to oversample the minority class to balance the class distribution."
   ]
  },
  {
   "cell_type": "code",
   "execution_count": 19,
   "metadata": {},
   "outputs": [],
   "source": [
    "from imblearn.over_sampling import SMOTE\n",
    "from imblearn.under_sampling import RandomUnderSampler\n",
    "from imblearn.pipeline import Pipeline\n",
    "from collections import Counter"
   ]
  },
  {
   "cell_type": "code",
   "execution_count": 20,
   "metadata": {},
   "outputs": [],
   "source": [
    "X = data[selected_features_tree]\n",
    "y = data.iloc[:,-1]"
   ]
  },
  {
   "cell_type": "code",
   "execution_count": 21,
   "metadata": {
    "scrolled": true
   },
   "outputs": [],
   "source": [
    "# the numbers before smote\n",
    "num_before = dict(Counter(y))\n",
    "\n",
    "#perform smoting\n",
    "\n",
    "# define pipeline\n",
    "over = SMOTE(sampling_strategy=0.8)\n",
    "under = RandomUnderSampler(sampling_strategy=0.8)\n",
    "steps = [('o', over), ('u', under)]\n",
    "pipeline = Pipeline(steps=steps)\n",
    "\n",
    "# transform the dataset\n",
    "X_smote, y_smote = pipeline.fit_resample(X, y)\n",
    "\n",
    "\n",
    "#the numbers after smote\n",
    "num_after =dict(Counter(y_smote))"
   ]
  },
  {
   "cell_type": "code",
   "execution_count": 22,
   "metadata": {},
   "outputs": [
    {
     "name": "stdout",
     "output_type": "stream",
     "text": [
      "{0: 3179, 1: 572} {0: 3178, 1: 2543}\n"
     ]
    }
   ],
   "source": [
    "print(num_before, num_after)"
   ]
  },
  {
   "cell_type": "code",
   "execution_count": 23,
   "metadata": {},
   "outputs": [
    {
     "data": {
      "image/png": "[encoded data removed]",
      "text/plain": [
       "<Figure size 576x216 with 2 Axes>"
      ]
     },
     "metadata": {
      "needs_background": "light"
     },
     "output_type": "display_data"
    }
   ],
   "source": [
    "# visualizing the change\n",
    "labels = [\"Negative Cases\",\"Positive Cases\"]\n",
    "plt.figure(figsize=(8,3))\n",
    "plt.subplot(1,2,1)\n",
    "sns.barplot(x=labels, y=(list(num_before.values())))\n",
    "plt.title(\"Numbers Before Balancing\")\n",
    "plt.subplot(1,2,2)\n",
    "sns.barplot(x=labels, y=(list(num_after.values())))\n",
    "plt.title(\"Numbers After Balancing\")\n",
    "plt.show()"
   ]
  },
  {
   "cell_type": "markdown",
   "metadata": {},
   "source": [
    "#### 5.2 Splitting data to Training and Testing set "
   ]
  },
  {
   "cell_type": "code",
   "execution_count": 24,
   "metadata": {},
   "outputs": [
    {
     "data": {
      "text/html": [
       "<div>\n",
       "<style scoped>\n",
       "    .dataframe tbody tr th:only-of-type {\n",
       "        vertical-align: middle;\n",
       "    }\n",
       "\n",
       "    .dataframe tbody tr th {\n",
       "        vertical-align: top;\n",
       "    }\n",
       "\n",
       "    .dataframe thead th {\n",
       "        text-align: right;\n",
       "    }\n",
       "</style>\n",
       "<table border=\"1\" class=\"dataframe\">\n",
       "  <thead>\n",
       "    <tr style=\"text-align: right;\">\n",
       "      <th></th>\n",
       "      <th>sysBP</th>\n",
       "      <th>BMI</th>\n",
       "      <th>totChol</th>\n",
       "      <th>age</th>\n",
       "      <th>glucose</th>\n",
       "      <th>TenYearCHD</th>\n",
       "    </tr>\n",
       "  </thead>\n",
       "  <tbody>\n",
       "    <tr>\n",
       "      <th>1725</th>\n",
       "      <td>137.500000</td>\n",
       "      <td>22.850000</td>\n",
       "      <td>220.000000</td>\n",
       "      <td>39</td>\n",
       "      <td>88.000000</td>\n",
       "      <td>0</td>\n",
       "    </tr>\n",
       "    <tr>\n",
       "      <th>4246</th>\n",
       "      <td>106.255878</td>\n",
       "      <td>25.559142</td>\n",
       "      <td>234.542646</td>\n",
       "      <td>45</td>\n",
       "      <td>77.116183</td>\n",
       "      <td>1</td>\n",
       "    </tr>\n",
       "    <tr>\n",
       "      <th>4182</th>\n",
       "      <td>156.783169</td>\n",
       "      <td>29.884469</td>\n",
       "      <td>228.132676</td>\n",
       "      <td>51</td>\n",
       "      <td>97.650493</td>\n",
       "      <td>1</td>\n",
       "    </tr>\n",
       "    <tr>\n",
       "      <th>4466</th>\n",
       "      <td>103.262864</td>\n",
       "      <td>22.177036</td>\n",
       "      <td>234.043811</td>\n",
       "      <td>42</td>\n",
       "      <td>81.605704</td>\n",
       "      <td>1</td>\n",
       "    </tr>\n",
       "    <tr>\n",
       "      <th>3798</th>\n",
       "      <td>120.484865</td>\n",
       "      <td>25.454574</td>\n",
       "      <td>298.979820</td>\n",
       "      <td>59</td>\n",
       "      <td>99.956276</td>\n",
       "      <td>1</td>\n",
       "    </tr>\n",
       "  </tbody>\n",
       "</table>\n",
       "</div>"
      ],
      "text/plain": [
       "           sysBP        BMI     totChol  age    glucose  TenYearCHD\n",
       "1725  137.500000  22.850000  220.000000   39  88.000000           0\n",
       "4246  106.255878  25.559142  234.542646   45  77.116183           1\n",
       "4182  156.783169  29.884469  228.132676   51  97.650493           1\n",
       "4466  103.262864  22.177036  234.043811   42  81.605704           1\n",
       "3798  120.484865  25.454574  298.979820   59  99.956276           1"
      ]
     },
     "execution_count": 24,
     "metadata": {},
     "output_type": "execute_result"
    }
   ],
   "source": [
    "# new dataset\n",
    "new_data = pd.concat([pd.DataFrame(X_smote), pd.DataFrame(y_smote)], axis=1)\n",
    "new_data.columns = [\"sysBP\", \"BMI\", \"totChol\", \"age\", \"glucose\",'TenYearCHD']\n",
    "new_data.sample(5)"
   ]
  },
  {
   "cell_type": "code",
   "execution_count": 25,
   "metadata": {},
   "outputs": [
    {
     "data": {
      "text/html": [
       "<div>\n",
       "<style scoped>\n",
       "    .dataframe tbody tr th:only-of-type {\n",
       "        vertical-align: middle;\n",
       "    }\n",
       "\n",
       "    .dataframe tbody tr th {\n",
       "        vertical-align: top;\n",
       "    }\n",
       "\n",
       "    .dataframe thead th {\n",
       "        text-align: right;\n",
       "    }\n",
       "</style>\n",
       "<table border=\"1\" class=\"dataframe\">\n",
       "  <thead>\n",
       "    <tr style=\"text-align: right;\">\n",
       "      <th></th>\n",
       "      <th>sysBP</th>\n",
       "      <th>BMI</th>\n",
       "      <th>totChol</th>\n",
       "      <th>age</th>\n",
       "      <th>glucose</th>\n",
       "    </tr>\n",
       "  </thead>\n",
       "  <tbody>\n",
       "    <tr>\n",
       "      <th>3674</th>\n",
       "      <td>157.5</td>\n",
       "      <td>26.60</td>\n",
       "      <td>269.0</td>\n",
       "      <td>52</td>\n",
       "      <td>80.0</td>\n",
       "    </tr>\n",
       "    <tr>\n",
       "      <th>1227</th>\n",
       "      <td>123.0</td>\n",
       "      <td>26.07</td>\n",
       "      <td>265.0</td>\n",
       "      <td>61</td>\n",
       "      <td>114.0</td>\n",
       "    </tr>\n",
       "    <tr>\n",
       "      <th>3041</th>\n",
       "      <td>136.0</td>\n",
       "      <td>28.30</td>\n",
       "      <td>221.0</td>\n",
       "      <td>49</td>\n",
       "      <td>80.0</td>\n",
       "    </tr>\n",
       "    <tr>\n",
       "      <th>356</th>\n",
       "      <td>122.5</td>\n",
       "      <td>21.34</td>\n",
       "      <td>155.0</td>\n",
       "      <td>47</td>\n",
       "      <td>78.0</td>\n",
       "    </tr>\n",
       "    <tr>\n",
       "      <th>3483</th>\n",
       "      <td>132.0</td>\n",
       "      <td>22.62</td>\n",
       "      <td>250.0</td>\n",
       "      <td>55</td>\n",
       "      <td>70.0</td>\n",
       "    </tr>\n",
       "  </tbody>\n",
       "</table>\n",
       "</div>"
      ],
      "text/plain": [
       "      sysBP    BMI  totChol  age  glucose\n",
       "3674  157.5  26.60    269.0   52     80.0\n",
       "1227  123.0  26.07    265.0   61    114.0\n",
       "3041  136.0  28.30    221.0   49     80.0\n",
       "356   122.5  21.34    155.0   47     78.0\n",
       "3483  132.0  22.62    250.0   55     70.0"
      ]
     },
     "execution_count": 25,
     "metadata": {},
     "output_type": "execute_result"
    }
   ],
   "source": [
    "X_new = new_data[selected_features_tree]\n",
    "y_new= new_data.iloc[:,-1]\n",
    "X_new.head()"
   ]
  },
  {
   "cell_type": "code",
   "execution_count": 26,
   "metadata": {},
   "outputs": [],
   "source": [
    "from sklearn.model_selection import train_test_split, cross_val_score\n",
    "X_train,X_test,y_train,y_test = train_test_split(X_new,y_new,test_size=.2,random_state=42)"
   ]
  },
  {
   "cell_type": "markdown",
   "metadata": {},
   "source": [
    "##### 5.3 Feature Scaling"
   ]
  },
  {
   "cell_type": "code",
   "execution_count": 27,
   "metadata": {},
   "outputs": [],
   "source": [
    "from sklearn.preprocessing import StandardScaler"
   ]
  },
  {
   "cell_type": "code",
   "execution_count": 28,
   "metadata": {},
   "outputs": [],
   "source": [
    "scaler = StandardScaler()\n",
    "\n",
    "X_train_scaled = scaler.fit_transform(X_train)\n",
    "X_train = pd.DataFrame(X_train_scaled)\n",
    "\n",
    "\n",
    "X_test_scaled = scaler.transform(X_test)\n",
    "X_test = pd.DataFrame(X_test_scaled)\n",
    "\n",
    "# Save the scaler to a file\n",
    "with open('scaler.pkl', 'wb') as scaler_file:\n",
    "    pickle.dump(scaler, scaler_file)\n"
   ]
  },
  {
   "cell_type": "markdown",
   "metadata": {},
   "source": [
    "#### 5.4 Models"
   ]
  },
  {
   "cell_type": "code",
   "execution_count": 29,
   "metadata": {},
   "outputs": [],
   "source": [
    "from sklearn.model_selection import GridSearchCV\n",
    "from sklearn.metrics import confusion_matrix\n",
    "from sklearn.metrics import accuracy_score\n",
    "from sklearn.metrics import f1_score\n",
    "from sklearn.metrics import classification_report\n",
    "from sklearn.metrics import recall_score,precision_score,classification_report"
   ]
  },
  {
   "cell_type": "markdown",
   "metadata": {},
   "source": [
    "###### 5.4.1 Logistic regression"
   ]
  },
  {
   "cell_type": "code",
   "execution_count": 30,
   "metadata": {},
   "outputs": [],
   "source": [
    "from sklearn.linear_model import LogisticRegression"
   ]
  },
  {
   "cell_type": "code",
   "execution_count": 31,
   "metadata": {},
   "outputs": [
    {
     "name": "stdout",
     "output_type": "stream",
     "text": [
      "Logistic Regression Accuracy: 0.6646288209606986\n"
     ]
    }
   ],
   "source": [
    "# Initialize and train the Logistic Regression model\n",
    "logreg_model = LogisticRegression(max_iter=1000, random_state=42)\n",
    "logreg_model.fit(X_train, y_train)\n",
    "\n",
    "# Predictions on the testing set\n",
    "logreg_predictions = logreg_model.predict(X_test)\n",
    "\n",
    "# Evaluate the Logistic Regression model\n",
    "logreg_accuracy = accuracy_score(y_test, logreg_predictions)\n",
    "print(\"Logistic Regression Accuracy:\", logreg_accuracy)"
   ]
  },
  {
   "cell_type": "code",
   "execution_count": 32,
   "metadata": {},
   "outputs": [
    {
     "data": {
      "text/plain": [
       "<AxesSubplot:>"
      ]
     },
     "execution_count": 32,
     "metadata": {},
     "output_type": "execute_result"
    },
    {
     "data": {
      "image/png": "[encoded data removed]",
      "text/plain": [
       "<Figure size 216x144 with 2 Axes>"
      ]
     },
     "metadata": {
      "needs_background": "light"
     },
     "output_type": "display_data"
    }
   ],
   "source": [
    "cm=confusion_matrix(y_test,logreg_predictions)\n",
    "conf_matrix=pd.DataFrame(data=cm,columns=['Predicted:0','Predicted:1'],index=['Actual:0','Actual:1'])\n",
    "plt.figure(figsize = (3,2))\n",
    "sns.heatmap(conf_matrix, annot=True,fmt='d',cmap=\"YlGnBu\")"
   ]
  },
  {
   "cell_type": "code",
   "execution_count": 33,
   "metadata": {},
   "outputs": [
    {
     "name": "stdout",
     "output_type": "stream",
     "text": [
      "Logistic Regression Classification Report:\n",
      "              precision    recall  f1-score   support\n",
      "\n",
      "           0       0.69      0.74      0.71       647\n",
      "           1       0.63      0.57      0.60       498\n",
      "\n",
      "    accuracy                           0.66      1145\n",
      "   macro avg       0.66      0.65      0.65      1145\n",
      "weighted avg       0.66      0.66      0.66      1145\n",
      "\n"
     ]
    }
   ],
   "source": [
    "print(\"Logistic Regression Classification Report:\")\n",
    "print(classification_report(y_test, logreg_predictions))"
   ]
  },
  {
   "cell_type": "code",
   "execution_count": 34,
   "metadata": {},
   "outputs": [
    {
     "name": "stdout",
     "output_type": "stream",
     "text": [
      "The f1 score for logistic regression is 59.66%\n"
     ]
    }
   ],
   "source": [
    "logistic_f1 = f1_score(y_test, logreg_predictions)\n",
    "print(f'The f1 score for logistic regression is {round(logistic_f1*100,2)}%')"
   ]
  },
  {
   "cell_type": "code",
   "execution_count": 35,
   "metadata": {},
   "outputs": [
    {
     "name": "stdout",
     "output_type": "stream",
     "text": [
      "Cross-Validation Scores (Logistic Regression): [0.67139738 0.66010929 0.64153005 0.66229508 0.67213115]\n",
      "Mean CV Score (Logistic Regression): 0.661492590736631\n",
      "\n"
     ]
    }
   ],
   "source": [
    "# Cross-Validation\n",
    "cv_scores_lr = cross_val_score(logreg_model, X_train, y_train, cv=5)\n",
    "mean_cv_scores_lr = np.mean(cv_scores_lr)\n",
    "print(\"Cross-Validation Scores (Logistic Regression):\", cv_scores_lr)\n",
    "print(\"Mean CV Score (Logistic Regression):\", mean_cv_scores_lr)\n",
    "print()"
   ]
  },
  {
   "cell_type": "markdown",
   "metadata": {},
   "source": [
    "#### 5.4.2 XGBoost"
   ]
  },
  {
   "cell_type": "code",
   "execution_count": 36,
   "metadata": {},
   "outputs": [],
   "source": [
    "# pip install xgboost\n",
    "import xgboost as xgb"
   ]
  },
  {
   "cell_type": "code",
   "execution_count": 37,
   "metadata": {},
   "outputs": [
    {
     "name": "stdout",
     "output_type": "stream",
     "text": [
      "XGBoost Accuracy: 0.834061135371179\n"
     ]
    }
   ],
   "source": [
    "# Initialize and train the XGBoost model\n",
    "xgb_model = xgb.XGBClassifier(random_state=42)\n",
    "xgb_model.fit(X_train, y_train)\n",
    "\n",
    "# Predictions on the testing set\n",
    "xgb_predictions = xgb_model.predict(X_test)\n",
    "\n",
    "# Evaluate the XGBoost model\n",
    "xgb_accuracy = accuracy_score(y_test, xgb_predictions)\n",
    "print(\"XGBoost Accuracy:\", xgb_accuracy)"
   ]
  },
  {
   "cell_type": "code",
   "execution_count": 38,
   "metadata": {},
   "outputs": [
    {
     "name": "stdout",
     "output_type": "stream",
     "text": [
      "XGBoost Confusion Matrix:\n"
     ]
    },
    {
     "data": {
      "text/plain": [
       "<AxesSubplot:>"
      ]
     },
     "execution_count": 38,
     "metadata": {},
     "output_type": "execute_result"
    },
    {
     "data": {
      "image/png": "[encoded data removed]",
      "text/plain": [
       "<Figure size 216x144 with 2 Axes>"
      ]
     },
     "metadata": {
      "needs_background": "light"
     },
     "output_type": "display_data"
    }
   ],
   "source": [
    "print(\"XGBoost Confusion Matrix:\")\n",
    "#print(confusion_matrix(y_test, xgb_predictions))\n",
    "cm=confusion_matrix(y_test,xgb_predictions)\n",
    "conf_matrix=pd.DataFrame(data=cm,columns=['Predicted:0','Predicted:1'],index=['Actual:0','Actual:1'])\n",
    "plt.figure(figsize = (3,2))\n",
    "sns.heatmap(conf_matrix, annot=True,fmt='d',cmap=\"YlGnBu\")"
   ]
  },
  {
   "cell_type": "code",
   "execution_count": 39,
   "metadata": {},
   "outputs": [
    {
     "name": "stdout",
     "output_type": "stream",
     "text": [
      "XGBoost Classification Report:\n",
      "              precision    recall  f1-score   support\n",
      "\n",
      "           0       0.83      0.88      0.86       647\n",
      "           1       0.83      0.77      0.80       498\n",
      "\n",
      "    accuracy                           0.83      1145\n",
      "   macro avg       0.83      0.83      0.83      1145\n",
      "weighted avg       0.83      0.83      0.83      1145\n",
      "\n"
     ]
    }
   ],
   "source": [
    "print(\"XGBoost Classification Report:\")\n",
    "print(classification_report(y_test, xgb_predictions))"
   ]
  },
  {
   "cell_type": "code",
   "execution_count": 40,
   "metadata": {},
   "outputs": [
    {
     "name": "stdout",
     "output_type": "stream",
     "text": [
      "The f1 score for XGBoost is 80.21%\n"
     ]
    }
   ],
   "source": [
    "xgb_f1 = f1_score(y_test, xgb_predictions)\n",
    "print(f'The f1 score for XGBoost is {round(xgb_f1*100,2)}%')"
   ]
  },
  {
   "cell_type": "code",
   "execution_count": 41,
   "metadata": {},
   "outputs": [
    {
     "name": "stdout",
     "output_type": "stream",
     "text": [
      "Cross-Validation Scores (XGBoost): [0.80349345 0.80437158 0.80655738 0.81420765 0.82185792]\n",
      "Mean CV Score (XGBoost): 0.810097597060157\n",
      "\n"
     ]
    }
   ],
   "source": [
    "# Cross-Validation\n",
    "cv_scores_xgb = cross_val_score(xgb_model, X_train, y_train, cv=5)\n",
    "mean_cv_scores_xgb = np.mean(cv_scores_xgb)\n",
    "print(\"Cross-Validation Scores (XGBoost):\", cv_scores_xgb)\n",
    "print(\"Mean CV Score (XGBoost):\", mean_cv_scores_xgb)\n",
    "print()"
   ]
  },
  {
   "cell_type": "markdown",
   "metadata": {},
   "source": [
    "#### 5.4.3 Random Forest"
   ]
  },
  {
   "cell_type": "code",
   "execution_count": 42,
   "metadata": {},
   "outputs": [
    {
     "name": "stdout",
     "output_type": "stream",
     "text": [
      "Random Forest Accuracy: 0.834061135371179\n"
     ]
    }
   ],
   "source": [
    "# Initialize and train the Random Forest model\n",
    "rf_model = RandomForestClassifier(n_estimators=100, random_state=42)\n",
    "rf_model.fit(X_train, y_train)\n",
    "\n",
    "# Predictions on the testing set\n",
    "rf_predictions = rf_model.predict(X_test)\n",
    "\n",
    "# Evaluate the Random Forest model\n",
    "rf_accuracy = accuracy_score(y_test, rf_predictions)\n",
    "print(\"Random Forest Accuracy:\", rf_accuracy)\n",
    "\n",
    "# dumping the file as .pkl file because I want to use this as my model for flask app\n",
    "with open('model.pkl', 'wb') as model_file:\n",
    "    pickle.dump(rf_model, model_file)"
   ]
  },
  {
   "cell_type": "code",
   "execution_count": 43,
   "metadata": {},
   "outputs": [
    {
     "name": "stdout",
     "output_type": "stream",
     "text": [
      "[0 0 1 ... 1 1 1]\n",
      "             0         1         2         3         4\n",
      "0    -0.590422 -0.669998  0.949457 -0.501040 -0.081968\n",
      "1    -0.507081  0.444026  0.927663 -1.341143 -0.449669\n",
      "2    -1.028176 -0.447924 -0.729145 -0.621055 -0.009485\n",
      "3    -0.744625 -0.749417  0.592312  1.179165 -0.036063\n",
      "4     2.159831  0.867456 -0.292812  1.779238 -0.583378\n",
      "...        ...       ...       ...       ...       ...\n",
      "1140  0.743034  1.628621  0.426397  1.779238 -0.115395\n",
      "1141  0.743034  0.527200 -0.249223 -0.621055  0.185451\n",
      "1142  0.150951  1.021234  0.069731  1.179165  0.220622\n",
      "1143 -0.673762  0.809486  0.404602  0.219048 -0.382814\n",
      "1144  1.993149 -0.859029 -0.488959  0.219048 -0.382814\n",
      "\n",
      "[1145 rows x 5 columns]\n"
     ]
    }
   ],
   "source": [
    "print(rf_predictions)\n",
    "print(X_test)"
   ]
  },
  {
   "cell_type": "code",
   "execution_count": 44,
   "metadata": {},
   "outputs": [
    {
     "name": "stdout",
     "output_type": "stream",
     "text": [
      "Random Forest Confusion Matrix:\n"
     ]
    },
    {
     "data": {
      "text/plain": [
       "<AxesSubplot:>"
      ]
     },
     "execution_count": 44,
     "metadata": {},
     "output_type": "execute_result"
    },
    {
     "data": {
      "image/png": "[encoded data removed]",
      "text/plain": [
       "<Figure size 216x144 with 2 Axes>"
      ]
     },
     "metadata": {
      "needs_background": "light"
     },
     "output_type": "display_data"
    }
   ],
   "source": [
    "print(\"Random Forest Confusion Matrix:\")\n",
    "#print(confusion_matrix(y_test, rf_predictions))\n",
    "cm=confusion_matrix(y_test,rf_predictions)\n",
    "conf_matrix=pd.DataFrame(data=cm,columns=['Predicted:0','Predicted:1'],index=['Actual:0','Actual:1'])\n",
    "plt.figure(figsize = (3,2))\n",
    "sns.heatmap(conf_matrix, annot=True,fmt='d',cmap=\"YlGnBu\")"
   ]
  },
  {
   "cell_type": "code",
   "execution_count": 45,
   "metadata": {},
   "outputs": [
    {
     "name": "stdout",
     "output_type": "stream",
     "text": [
      "Random Forest Classification Report:\n",
      "              precision    recall  f1-score   support\n",
      "\n",
      "           0       0.87      0.83      0.85       647\n",
      "           1       0.79      0.84      0.82       498\n",
      "\n",
      "    accuracy                           0.83      1145\n",
      "   macro avg       0.83      0.83      0.83      1145\n",
      "weighted avg       0.84      0.83      0.83      1145\n",
      "\n"
     ]
    }
   ],
   "source": [
    "print(\"Random Forest Classification Report:\")\n",
    "print(classification_report(y_test, rf_predictions))"
   ]
  },
  {
   "cell_type": "code",
   "execution_count": 46,
   "metadata": {},
   "outputs": [
    {
     "name": "stdout",
     "output_type": "stream",
     "text": [
      "The f1 score for Random Forest is 81.52%\n"
     ]
    }
   ],
   "source": [
    "rf_f1 = f1_score(y_test, rf_predictions)\n",
    "print(f'The f1 score for Random Forest is {round(rf_f1*100,2)}%')"
   ]
  },
  {
   "cell_type": "code",
   "execution_count": 47,
   "metadata": {},
   "outputs": [
    {
     "name": "stdout",
     "output_type": "stream",
     "text": [
      "Cross-Validation Scores (Random Forest): [0.80458515 0.81420765 0.80765027 0.84262295 0.81530055]\n",
      "Mean CV Score (Random Forest): 0.8168733147206909\n",
      "\n"
     ]
    }
   ],
   "source": [
    "# Cross-Validation\n",
    "cv_scores_rf = cross_val_score(rf_model, X_train, y_train, cv=5)\n",
    "mean_cv_scores_rf = np.mean(cv_scores_rf)\n",
    "print(\"Cross-Validation Scores (Random Forest):\", cv_scores_rf)\n",
    "print(\"Mean CV Score (Random Forest):\", mean_cv_scores_rf)\n",
    "print()"
   ]
  },
  {
   "cell_type": "markdown",
   "metadata": {},
   "source": [
    "#### 5.4.4 Support Vector Machine"
   ]
  },
  {
   "cell_type": "code",
   "execution_count": 48,
   "metadata": {},
   "outputs": [],
   "source": [
    "from sklearn.svm import SVC"
   ]
  },
  {
   "cell_type": "code",
   "execution_count": 49,
   "metadata": {},
   "outputs": [
    {
     "name": "stdout",
     "output_type": "stream",
     "text": [
      "SVM Accuracy: 0.6611353711790393\n"
     ]
    }
   ],
   "source": [
    "# Initialize and train the SVM model\n",
    "svm_model = SVC(kernel='linear', random_state=42)\n",
    "svm_model.fit(X_train, y_train)\n",
    "\n",
    "# Predictions on the testing set\n",
    "svm_predictions = svm_model.predict(X_test)\n",
    "\n",
    "# Evaluate the SVM model\n",
    "svm_accuracy = accuracy_score(y_test, svm_predictions)\n",
    "print(\"SVM Accuracy:\", svm_accuracy)"
   ]
  },
  {
   "cell_type": "code",
   "execution_count": 50,
   "metadata": {},
   "outputs": [
    {
     "name": "stdout",
     "output_type": "stream",
     "text": [
      "SVM Classification Report:\n",
      "              precision    recall  f1-score   support\n",
      "\n",
      "           0       0.70      0.71      0.70       647\n",
      "           1       0.61      0.60      0.60       498\n",
      "\n",
      "    accuracy                           0.66      1145\n",
      "   macro avg       0.65      0.65      0.65      1145\n",
      "weighted avg       0.66      0.66      0.66      1145\n",
      "\n"
     ]
    }
   ],
   "source": [
    "print(\"SVM Classification Report:\")\n",
    "print(classification_report(y_test, svm_predictions))"
   ]
  },
  {
   "cell_type": "code",
   "execution_count": 51,
   "metadata": {},
   "outputs": [
    {
     "name": "stdout",
     "output_type": "stream",
     "text": [
      "SVM Confusion Matrix:\n"
     ]
    },
    {
     "data": {
      "text/plain": [
       "<AxesSubplot:>"
      ]
     },
     "execution_count": 51,
     "metadata": {},
     "output_type": "execute_result"
    },
    {
     "data": {
      "image/png": "[encoded data removed]",
      "text/plain": [
       "<Figure size 216x144 with 2 Axes>"
      ]
     },
     "metadata": {
      "needs_background": "light"
     },
     "output_type": "display_data"
    }
   ],
   "source": [
    "print(\"SVM Confusion Matrix:\")\n",
    "#print(confusion_matrix(y_test, svm_predictions))\n",
    "cm = confusion_matrix(y_test, svm_predictions)\n",
    "conf_matrix=pd.DataFrame(data=cm,columns=['Predicted:0','Predicted:1'],index=['Actual:0','Actual:1'])\n",
    "plt.figure(figsize = (3,2))\n",
    "sns.heatmap(conf_matrix, annot=True,fmt='d',cmap=\"YlGnBu\")"
   ]
  },
  {
   "cell_type": "code",
   "execution_count": 52,
   "metadata": {},
   "outputs": [
    {
     "name": "stdout",
     "output_type": "stream",
     "text": [
      "              precision    recall  f1-score   support\n",
      "\n",
      "           0       0.70      0.71      0.70       647\n",
      "           1       0.61      0.60      0.60       498\n",
      "\n",
      "    accuracy                           0.66      1145\n",
      "   macro avg       0.65      0.65      0.65      1145\n",
      "weighted avg       0.66      0.66      0.66      1145\n",
      "\n"
     ]
    }
   ],
   "source": [
    "print(classification_report(y_test,svm_predictions))"
   ]
  },
  {
   "cell_type": "code",
   "execution_count": 53,
   "metadata": {},
   "outputs": [
    {
     "name": "stdout",
     "output_type": "stream",
     "text": [
      "The f1 score for SVM is 60.49%\n"
     ]
    }
   ],
   "source": [
    "svm_f1 = f1_score(y_test, svm_predictions)\n",
    "print(f'The f1 score for SVM is {round(svm_f1*100,2)}%')"
   ]
  },
  {
   "cell_type": "code",
   "execution_count": 54,
   "metadata": {},
   "outputs": [
    {
     "name": "stdout",
     "output_type": "stream",
     "text": [
      "Cross-Validation Scores (SVM): [0.6790393  0.65901639 0.63497268 0.66775956 0.67322404]\n",
      "Mean CV Score (SVM): 0.6628023957811344\n",
      "\n"
     ]
    }
   ],
   "source": [
    "# Cross-Validation\n",
    "cv_scores_svm = cross_val_score(svm_model, X_train, y_train, cv=5)\n",
    "mean_cv_scores_svm = np.mean(cv_scores_svm)\n",
    "print(\"Cross-Validation Scores (SVM):\", cv_scores_svm)\n",
    "print(\"Mean CV Score (SVM):\", mean_cv_scores_svm)\n",
    "print()"
   ]
  },
  {
   "cell_type": "markdown",
   "metadata": {},
   "source": [
    "#### 5.4.4 Naive Bayes"
   ]
  },
  {
   "cell_type": "code",
   "execution_count": 55,
   "metadata": {},
   "outputs": [],
   "source": [
    "from sklearn.naive_bayes import GaussianNB"
   ]
  },
  {
   "cell_type": "code",
   "execution_count": 56,
   "metadata": {},
   "outputs": [
    {
     "name": "stdout",
     "output_type": "stream",
     "text": [
      "NB Accuracy: 0.6489082969432315\n"
     ]
    }
   ],
   "source": [
    "# Initialize Gaussian Naive Bayes classifier\n",
    "naive_bayes = GaussianNB()\n",
    "\n",
    "# Train the classifier\n",
    "naive_bayes.fit(X_train, y_train)\n",
    "\n",
    "# Predict on the test data\n",
    "nb_pred = naive_bayes.predict(X_test)\n",
    "\n",
    "# Calculate accuracy\n",
    "nb_accuracy = accuracy_score(y_test, nb_pred)\n",
    "print(\"NB Accuracy:\", nb_accuracy)"
   ]
  },
  {
   "cell_type": "code",
   "execution_count": 57,
   "metadata": {},
   "outputs": [
    {
     "name": "stdout",
     "output_type": "stream",
     "text": [
      "LightGBM Confusion Matrix:\n"
     ]
    },
    {
     "data": {
      "text/plain": [
       "<AxesSubplot:>"
      ]
     },
     "execution_count": 57,
     "metadata": {},
     "output_type": "execute_result"
    },
    {
     "data": {
      "image/png": "[encoded data removed]",
      "text/plain": [
       "<Figure size 216x144 with 2 Axes>"
      ]
     },
     "metadata": {
      "needs_background": "light"
     },
     "output_type": "display_data"
    }
   ],
   "source": [
    "print(\"LightGBM Confusion Matrix:\")\n",
    "#print(confusion_matrix(y_test, lgb_predictions))\n",
    "cm = confusion_matrix(y_test, nb_pred)\n",
    "conf_matrix=pd.DataFrame(data=cm,columns=['Predicted:0','Predicted:1'],index=['Actual:0','Actual:1'])\n",
    "plt.figure(figsize = (3,2))\n",
    "sns.heatmap(conf_matrix, annot=True,fmt='d',cmap=\"YlGnBu\")"
   ]
  },
  {
   "cell_type": "code",
   "execution_count": 58,
   "metadata": {},
   "outputs": [
    {
     "name": "stdout",
     "output_type": "stream",
     "text": [
      "Naive-Bayes Classification Report:\n",
      "              precision    recall  f1-score   support\n",
      "\n",
      "           0       0.65      0.83      0.73       647\n",
      "           1       0.65      0.42      0.51       498\n",
      "\n",
      "    accuracy                           0.65      1145\n",
      "   macro avg       0.65      0.62      0.62      1145\n",
      "weighted avg       0.65      0.65      0.63      1145\n",
      "\n"
     ]
    }
   ],
   "source": [
    "print(\"Naive-Bayes Classification Report:\")\n",
    "print(classification_report(y_test, nb_pred))"
   ]
  },
  {
   "cell_type": "code",
   "execution_count": 59,
   "metadata": {},
   "outputs": [
    {
     "name": "stdout",
     "output_type": "stream",
     "text": [
      "The f1 score for Naive-Bayes is 50.98%\n"
     ]
    }
   ],
   "source": [
    "nb_f1 = f1_score(y_test, nb_pred)\n",
    "print(f'The f1 score for Naive-Bayes is {round(nb_f1*100,2)}%')"
   ]
  },
  {
   "cell_type": "code",
   "execution_count": 60,
   "metadata": {},
   "outputs": [
    {
     "name": "stdout",
     "output_type": "stream",
     "text": [
      "Cross-Validation Scores (Naive Bayes): [0.64847162 0.63387978 0.64480874 0.64808743 0.66885246]\n",
      "Mean CV Score (Naive Bayes): 0.6488200062042141\n",
      "\n"
     ]
    }
   ],
   "source": [
    "# Cross-Validation\n",
    "cv_scores_NB = cross_val_score(naive_bayes, X_train, y_train, cv=5)\n",
    "mean_cv_scores_NB = np.mean(cv_scores_NB)\n",
    "print(\"Cross-Validation Scores (Naive Bayes):\", cv_scores_NB)\n",
    "print(\"Mean CV Score (Naive Bayes):\", mean_cv_scores_NB)\n",
    "print()"
   ]
  },
  {
   "cell_type": "markdown",
   "metadata": {},
   "source": [
    "##### 5.5 Model Comparison"
   ]
  },
  {
   "cell_type": "code",
   "execution_count": 61,
   "metadata": {},
   "outputs": [],
   "source": [
    "comparison = pd.DataFrame({\n",
    "    \"Logistic regression\":{'Accuracy':logreg_accuracy, 'F1 score':logistic_f1, \"Cross-Validation Scores\" :mean_cv_scores_lr},\n",
    "    \"XGBoost\":{'Accuracy':xgb_accuracy,'F1 score':xgb_f1, \"Cross-Validation Scores\" :mean_cv_scores_xgb},\n",
    "    \"Random Forest\":{'Accuracy':rf_accuracy,'F1 score':rf_f1, \"Cross-Validation Scores\" :mean_cv_scores_rf},\n",
    "    \"Support vector machine\":{'Accuracy':svm_accuracy,'F1 score':svm_f1, \"Cross-Validation Scores\" :mean_cv_scores_svm},\n",
    "    \"Naive Bayes Classification\":{'Accuracy':nb_accuracy,'F1 score':nb_f1, \"Cross-Validation Scores\" :mean_cv_scores_NB}\n",
    "}).T"
   ]
  },
  {
   "cell_type": "code",
   "execution_count": 62,
   "metadata": {},
   "outputs": [
    {
     "data": {
      "text/html": [
       "<div>\n",
       "<style scoped>\n",
       "    .dataframe tbody tr th:only-of-type {\n",
       "        vertical-align: middle;\n",
       "    }\n",
       "\n",
       "    .dataframe tbody tr th {\n",
       "        vertical-align: top;\n",
       "    }\n",
       "\n",
       "    .dataframe thead th {\n",
       "        text-align: right;\n",
       "    }\n",
       "</style>\n",
       "<table border=\"1\" class=\"dataframe\">\n",
       "  <thead>\n",
       "    <tr style=\"text-align: right;\">\n",
       "      <th></th>\n",
       "      <th>Model</th>\n",
       "      <th>Accuracy</th>\n",
       "      <th>F1 score</th>\n",
       "      <th>Cross-Validation Scores</th>\n",
       "    </tr>\n",
       "  </thead>\n",
       "  <tbody>\n",
       "    <tr>\n",
       "      <th>0</th>\n",
       "      <td>Logistic regression</td>\n",
       "      <td>0.664629</td>\n",
       "      <td>0.596639</td>\n",
       "      <td>0.661493</td>\n",
       "    </tr>\n",
       "    <tr>\n",
       "      <th>1</th>\n",
       "      <td>XGBoost</td>\n",
       "      <td>0.834061</td>\n",
       "      <td>0.802083</td>\n",
       "      <td>0.810098</td>\n",
       "    </tr>\n",
       "    <tr>\n",
       "      <th>2</th>\n",
       "      <td>Random Forest</td>\n",
       "      <td>0.834061</td>\n",
       "      <td>0.815175</td>\n",
       "      <td>0.816873</td>\n",
       "    </tr>\n",
       "    <tr>\n",
       "      <th>3</th>\n",
       "      <td>Support vector machine</td>\n",
       "      <td>0.661135</td>\n",
       "      <td>0.604888</td>\n",
       "      <td>0.662802</td>\n",
       "    </tr>\n",
       "    <tr>\n",
       "      <th>4</th>\n",
       "      <td>Naive Bayes Classification</td>\n",
       "      <td>0.648908</td>\n",
       "      <td>0.509756</td>\n",
       "      <td>0.648820</td>\n",
       "    </tr>\n",
       "  </tbody>\n",
       "</table>\n",
       "</div>"
      ],
      "text/plain": [
       "                        Model  Accuracy  F1 score  Cross-Validation Scores\n",
       "0         Logistic regression  0.664629  0.596639                 0.661493\n",
       "1                     XGBoost  0.834061  0.802083                 0.810098\n",
       "2               Random Forest  0.834061  0.815175                 0.816873\n",
       "3      Support vector machine  0.661135  0.604888                 0.662802\n",
       "4  Naive Bayes Classification  0.648908  0.509756                 0.648820"
      ]
     },
     "execution_count": 62,
     "metadata": {},
     "output_type": "execute_result"
    }
   ],
   "source": [
    "# Assuming 'df' is your DataFrame containing the data\n",
    "comparison.index.name = 'Model'\n",
    "\n",
    "# Reset the index of the DataFrame\n",
    "comparison.reset_index(inplace=True)\n",
    "comparison"
   ]
  },
  {
   "cell_type": "code",
   "execution_count": 63,
   "metadata": {},
   "outputs": [
    {
     "data": {
      "image/png": "[encoded data removed]",
      "text/plain": [
       "<Figure size 1080x504 with 2 Axes>"
      ]
     },
     "metadata": {
      "needs_background": "light"
     },
     "output_type": "display_data"
    }
   ],
   "source": [
    "# Set figure size\n",
    "fig, axes = plt.subplots(nrows=1, ncols=2, figsize=(15, 7))\n",
    "\n",
    "# Plotting accuracy\n",
    "sns.barplot(x='Model', y='Accuracy', data=comparison, ax=axes[0], color='blue')\n",
    "axes[0].set_title('Accuracy')\n",
    "axes[0].set_xlabel('Model')\n",
    "axes[0].set_ylabel('Score')\n",
    "axes[0].tick_params(axis='x', rotation=45)\n",
    "\n",
    "# Plotting F1 score\n",
    "sns.barplot(x='Model', y='F1 score', data=comparison, ax=axes[1], color='orange')\n",
    "axes[1].set_title('F1 Score')\n",
    "axes[1].set_xlabel('Model')\n",
    "axes[1].set_ylabel('Score')\n",
    "axes[1].tick_params(axis='x', rotation=45)\n",
    "\n",
    "# Adjust layout\n",
    "plt.tight_layout()\n",
    "\n",
    "# Show plot\n",
    "plt.show()"
   ]
  },
  {
   "cell_type": "markdown",
   "metadata": {},
   "source": [
    "### 6. Conclusion"
   ]
  },
  {
   "cell_type": "markdown",
   "metadata": {},
   "source": [
    "Based on the provided accuracy and F1 score:\n",
    "\n",
    "1. **Random Forest**: It follows closely behind XGBoost in terms of both accuracy (0.835808) and F1 score (0.809717). Random Forest is known for its simplicity, scalability, and ability to handle high-dimensional data. It could be a suitable alternative to XGBoost, especially if you prefer a simpler model with comparable performance.\n",
    "\n",
    "2. **XGBoost**: It exhibits the second highest accuracy (0.828821) and F1 score (0.837977) among all models. XGBoost remains a strong choice for predictive modeling due to its robustness and performance.\n",
    "\n",
    "3. **Logistic Regression**: While having a lower accuracy and F1 score compared to XGBoost and Random Forest, logistic regression (0.682096 accuracy, 0.590234 F1 score) is often favored for its interpretability and simplicity. If model interpretability is a priority, logistic regression might still be a reasonable choice.\n",
    "\n",
    "4. **Support Vector Machine (SVM)**: SVM shows moderate performance with an accuracy of 0.669869 and an F1 score of 0.609504. SVMs are powerful for capturing complex relationships in data, but they might require more careful tuning and are generally slower to train compared to other models like XGBoost and Random Forest.\n",
    "\n",
    "5. **Naive Bayes Classification**: While Naive Bayes has the lowest accuracy (0.652402) and F1 score (0.500000) among the models, it's known for its simplicity and efficiency, especially for text classification tasks with sparse features. However, in this scenario, its performance is relatively lower compared to other models.\n",
    "\n",
    "In summary, considering the updated metrics, XGBoost and Random Forest remain strong contenders for their high performance. Logistic regression could still be a reasonable choice if interpretability is crucial. It's recommended to further evaluate the models using techniques like cross-validation and consider factors beyond just performance metrics for a comprehensive decision."
   ]
  },
  {
   "cell_type": "markdown",
   "metadata": {},
   "source": [
    "### Selecting Random Forest Model for Flask Application:"
   ]
  },
  {
   "cell_type": "markdown",
   "metadata": {},
   "source": [
    "Select the model you want for the flask app by replacing rf_model with the model you prefer and add the code within that section."
   ]
  },
  {
   "cell_type": "code",
   "execution_count": 64,
   "metadata": {},
   "outputs": [],
   "source": [
    "# # dumping the file as .pkl file because I want to use this as my model for flask app\n",
    "with open('model.pkl', 'wb') as model_file:\n",
    "    pickle.dump(rf_model, model_file)"
   ]
  }
 ],
 "metadata": {
  "kernelspec": {
   "display_name": "Python 3 (ipykernel)",
   "language": "python",
   "name": "python3"
  },
  "language_info": {
   "codemirror_mode": {
    "name": "ipython",
    "version": 3
   },
   "file_extension": ".py",
   "mimetype": "text/x-python",
   "name": "python",
   "nbconvert_exporter": "python",
   "pygments_lexer": "ipython3",
   "version": "3.9.12"
  }
 },
 "nbformat": 4,
 "nbformat_minor": 2
}
